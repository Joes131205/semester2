{
 "cells": [
  {
   "cell_type": "code",
   "execution_count": null,
   "metadata": {},
   "outputs": [],
   "source": [
    "# Import necessary libraries\n",
    "import numpy as np"
   ]
  },
  {
   "cell_type": "code",
   "execution_count": 3,
   "metadata": {},
   "outputs": [],
   "source": [
    "# Check if its diagonally dominant\n",
    "def isDiagonallyDominant(matrix):\n",
    "    # Turn the matrix to array\n",
    "    x = np.array(matrix)\n",
    "\n",
    "    # Get the diagonal and off-diagonal elements\n",
    "    diag = np.diag(np.abs(x))\n",
    "\n",
    "\n",
    "    # Sum of off-diagonal elements\n",
    "    # axis = 1 means sum of rows\n",
    "    # axis = 0 means sum of columns\n",
    "    off_diag = np.sum(np.abs(x), axis=1) - diag\n",
    "\n",
    "\n",
    "    # Check if the diagonal elements are greater than the off-diagonal elements\n",
    "    if (np.all(diag > off_diag)):\n",
    "        return True\n",
    "    else:\n",
    "        return False"
   ]
  },
  {
   "cell_type": "code",
   "execution_count": 11,
   "metadata": {},
   "outputs": [
    {
     "name": "stdout",
     "output_type": "stream",
     "text": [
      "Solution did not converge\n"
     ]
    }
   ],
   "source": [
    "# Gauss Seidel Function\n",
    "def gauss_seidel(x, y, epsilon = 0.01, t = 15):\n",
    "    # Check if the matrix is diagonally dominant\n",
    "    if not isDiagonallyDominant(x):\n",
    "        print(\"The matrix is not diagonally dominant\")\n",
    "        return\n",
    "    \n",
    "    # Turn the matrix to array\n",
    "    x = np.array(x)\n",
    "    y = np.array(y)\n",
    "\n",
    "    # Get the diagonal elements\n",
    "    diag = np.diag(x)\n",
    "    \n",
    "    # Turn the diagonal elements to 0\n",
    "    x = -x\n",
    "\n",
    "    # Fill the diagonal elements with 0\n",
    "    np.fill_diagonal(x, 0)\n",
    "\n",
    "    # Initial guess\n",
    "    mtx_old = np.zeros(x[0].shape)\n",
    "\n",
    "    # Iteration\n",
    "    for i in range(t):\n",
    "        mtx_new = np.array(mtx_old)\n",
    "\n",
    "        for idx, row in enumerate(x):\n",
    "            mtx_new[idx] = (y[idx] + np.dot(row, mtx_new)) / diag[idx]\n",
    "\n",
    "        print(f\"Iteration {i+1}: {mtx_new}\")\n",
    "    \n",
    "        dx = np.sqrt(np.dot(mtx_new - mtx_old, mtx_new - mtx_old))\n",
    "        print(f\"dx: {dx}\")\n",
    "\n",
    "        if dx < epsilon:\n",
    "            print(\"Solution converged\")\n",
    "            return\n",
    "        mtx_old = mtx_new\n",
    "\n",
    "print(\"Solution did not converge\")\n"
   ]
  },
  {
   "cell_type": "code",
   "execution_count": 12,
   "metadata": {},
   "outputs": [
    {
     "name": "stdout",
     "output_type": "stream",
     "text": [
      "Iteration 1: [0.8  0.7  1.15]\n",
      "dx: 1.5660459763365826\n",
      "Iteration 2: [-0.055       0.65083333  1.58569444]\n",
      "dx: 0.9608704439365717\n",
      "Iteration 3: [-0.25318056  0.61124769  1.69138233]\n",
      "dx: 0.22806245930668492\n",
      "Iteration 4: [-0.29019024  0.59980132  1.7117949 ]\n",
      "dx: 0.04378822902864041\n",
      "Iteration 5: [-0.29581798  0.59733718  1.71501946]\n",
      "dx: 0.006938385517329205\n",
      "Solution converged\n"
     ]
    }
   ],
   "source": [
    "Xs = [\n",
    "    [10, 4, 9],\n",
    "    [1, 6, 1],\n",
    "    [3, 1, 6]\n",
    "]\n",
    "\n",
    "Ys = [8, 5, 10]\n",
    "\n",
    "gauss_seidel(Xs, Ys)"
   ]
  },
  {
   "cell_type": "code",
   "execution_count": 14,
   "metadata": {},
   "outputs": [
    {
     "name": "stdout",
     "output_type": "stream",
     "text": [
      "Iteration 1: [1.  0.8 0.4]\n",
      "dx: 1.3416407864998738\n",
      "Iteration 2: [0.6  0.96 0.48]\n",
      "dx: 0.43817804600413296\n",
      "Iteration 3: [0.52  0.992 0.496]\n",
      "dx: 0.08763560920082647\n",
      "Iteration 4: [0.504  0.9984 0.4992]\n",
      "dx: 0.017527121840165322\n",
      "Iteration 5: [0.5008  0.99968 0.49984]\n",
      "dx: 0.003505424368033062\n",
      "Solution converged\n"
     ]
    }
   ],
   "source": [
    "Xs2 = [[4, 1, 2], [3, 5, 1], [1, 1, 3]]\n",
    "Ys2 = [4, 7, 3]\n",
    "gauss_seidel(Xs2, Ys2)"
   ]
  },
  {
   "cell_type": "code",
   "execution_count": 13,
   "metadata": {},
   "outputs": [
    {
     "name": "stdout",
     "output_type": "stream",
     "text": [
      "Iteration 1: [ 1.33333333 -0.41666667  0.63333333]\n",
      "dx: 1.5337861650177969\n",
      "Iteration 2: [ 1.68333333 -0.75        0.83666667]\n",
      "dx: 0.5243620462576937\n",
      "Iteration 3: [ 1.86222222 -0.89027778  0.92855556]\n",
      "dx: 0.2451992198344183\n",
      "Iteration 4: [ 1.93961111 -0.95194444  0.9687    ]\n",
      "dx: 0.106786676701673\n",
      "Iteration 5: [ 1.97354815 -0.97894907  0.98628926]\n",
      "dx: 0.04680122376152291\n",
      "Iteration 6: [ 1.98841278 -0.9907787   0.99399404]\n",
      "dx: 0.02050026711546014\n",
      "Iteration 7: [ 1.99492425 -0.99596063  0.9973691 ]\n",
      "dx: 0.008980127241105756\n",
      "Solution converged\n"
     ]
    }
   ],
   "source": [
    "Xs3 = [[3, 1, -1], [2, 4, 1], [-1, 2, 5]]\n",
    "Ys3 = [4, 1, 1]\n",
    "\n",
    "gauss_seidel(Xs3, Ys3)"
   ]
  }
 ],
 "metadata": {
  "kernelspec": {
   "display_name": ".venv",
   "language": "python",
   "name": "python3"
  },
  "language_info": {
   "codemirror_mode": {
    "name": "ipython",
    "version": 3
   },
   "file_extension": ".py",
   "mimetype": "text/x-python",
   "name": "python",
   "nbconvert_exporter": "python",
   "pygments_lexer": "ipython3",
   "version": "3.12.6"
  }
 },
 "nbformat": 4,
 "nbformat_minor": 2
}
